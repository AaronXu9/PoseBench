{
 "cells": [
  {
   "cell_type": "code",
   "execution_count": null,
   "metadata": {},
   "outputs": [],
   "source": []
  }
 ],
 "metadata": {
  "kernelspec": {
<<<<<<< HEAD
   "display_name": "plinder",
=======
   "display_name": "testenv",
>>>>>>> f5b0d80da7c7831e147869a03b2f520d59b7bdd3
   "language": "python",
   "name": "python3"
  },
  "language_info": {
<<<<<<< HEAD
   "codemirror_mode": {
    "name": "ipython",
    "version": 3
   },
   "file_extension": ".py",
   "mimetype": "text/x-python",
   "name": "python",
   "nbconvert_exporter": "python",
   "pygments_lexer": "ipython3",
   "version": "3.9.0"
=======
   "name": "python",
   "version": "3.8.18"
>>>>>>> f5b0d80da7c7831e147869a03b2f520d59b7bdd3
  }
 },
 "nbformat": 4,
 "nbformat_minor": 2
}
