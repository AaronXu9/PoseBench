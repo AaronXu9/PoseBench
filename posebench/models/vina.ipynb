{
 "cells": [
  {
   "cell_type": "code",
   "execution_count": null,
   "metadata": {},
   "outputs": [],
   "source": [
    "import os\n",
    "import subprocess\n",
    "import sys\n",
    "import math\n",
    "from typing import List\n",
    "import re \n",
    "import gzip \n",
    "\n",
    "# If you're using RDKit:\n",
    "from rdkit import Chem\n",
    "from rdkit.Chem import AllChem\n",
    "\n",
    "# If you have custom classes for parsing .pdbqt, import them\n",
    "from meeko import MoleculePreparation, PDBQTMolecule, PDBQTWriterLegacy, RDKitMolCreate\n",
    "\n",
    "from vina import Vina"
   ]
  },
  {
   "cell_type": "code",
   "execution_count": null,
   "metadata": {},
   "outputs": [],
   "source": [
    "v = Vina(sf_name='vina')\n",
    "\n",
    "\n",
    "v.set_receptor('/home/aoxu/projects/PoseBench/data/test_cases/5SAK_ZRY/5SAK_ZRY_protein.pdbqt')\n",
    "\n",
    "v.set_ligand_from_file('1iep_ligand.pdbqt')\n",
    "v.compute_vina_maps(center=[15.190, 53.903, 16.917], box_size=[20, 20, 20])\n",
    "\n",
    "# Score the current pose\n",
    "energy = v.score()\n",
    "print('Score before minimization: %.3f (kcal/mol)' % energy[0])\n",
    "\n",
    "# Minimized locally the current pose\n",
    "energy_minimized = v.optimize()\n",
    "print('Score after minimization : %.3f (kcal/mol)' % energy_minimized[0])\n",
    "v.write_pose('1iep_ligand_minimized.pdbqt', overwrite=True)\n",
    "\n",
    "# Dock the ligand\n",
    "v.dock(exhaustiveness=32, n_poses=20)\n",
    "v.write_poses('1iep_ligand_vina_out.pdbqt', n_poses=5, overwrite=True)"
   ]
  }
 ],
 "metadata": {
  "kernelspec": {
   "display_name": "PoseBench",
   "language": "python",
   "name": "python3"
  },
  "language_info": {
   "name": "python",
   "version": "3.10.14"
  }
 },
 "nbformat": 4,
 "nbformat_minor": 2
}
