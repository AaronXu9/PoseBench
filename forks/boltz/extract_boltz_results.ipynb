{
 "cells": [
  {
   "cell_type": "markdown",
   "id": "d42d9631",
   "metadata": {},
   "source": [
    "# Preparation "
   ]
  },
  {
   "cell_type": "code",
   "execution_count": 1,
   "id": "5b1970b2",
   "metadata": {},
   "outputs": [
    {
     "name": "stderr",
     "output_type": "stream",
     "text": [
      "/home/aoxu/miniconda3/envs/PoseBench/lib/python3.10/site-packages/prody/utilities/misctools.py:424: DeprecationWarning: pkg_resources is deprecated as an API. See https://setuptools.pypa.io/en/latest/pkg_resources.html\n",
      "  import pkg_resources\n",
      "/home/aoxu/miniconda3/envs/PoseBench/lib/python3.10/site-packages/pkg_resources/__init__.py:2825: DeprecationWarning: Deprecated call to `pkg_resources.declare_namespace('sphinxcontrib')`.\n",
      "Implementing implicit namespace packages (as specified in PEP 420) is preferred to `pkg_resources.declare_namespace`. See https://setuptools.pypa.io/en/latest/references/keywords.html#keyword-namespace-packages\n",
      "  declare_namespace(pkg)\n",
      "/home/aoxu/miniconda3/envs/PoseBench/lib/python3.10/site-packages/pkg_resources/__init__.py:2825: DeprecationWarning: Deprecated call to `pkg_resources.declare_namespace('zope')`.\n",
      "Implementing implicit namespace packages (as specified in PEP 420) is preferred to `pkg_resources.declare_namespace`. See https://setuptools.pypa.io/en/latest/references/keywords.html#keyword-namespace-packages\n",
      "  declare_namespace(pkg)\n",
      "/home/aoxu/miniconda3/envs/PoseBench/lib/python3.10/site-packages/pkg_resources/__init__.py:2825: DeprecationWarning: Deprecated call to `pkg_resources.declare_namespace('zope')`.\n",
      "Implementing implicit namespace packages (as specified in PEP 420) is preferred to `pkg_resources.declare_namespace`. See https://setuptools.pypa.io/en/latest/references/keywords.html#keyword-namespace-packages\n",
      "  declare_namespace(pkg)\n"
     ]
    }
   ],
   "source": [
    "import rootutils\n",
    "import os\n",
    "from biopandas.pdb import PandasPdb\n",
    "from omegaconf import DictConfig, open_dict\n",
    "\n",
    "rootutils.setup_root(os.getcwd(), indicator=\".project-root\", pythonpath=True)\n",
    "\n",
    "from cogligandbench.utils.data_utils import (\n",
    "    extract_protein_and_ligands_with_prody,\n",
    "    parse_inference_inputs_from_dir,\n",
    ")"
   ]
  },
  {
   "cell_type": "markdown",
   "id": "3cef02db",
   "metadata": {},
   "source": [
    "# Test case: 1afb"
   ]
  },
  {
   "cell_type": "code",
   "execution_count": 68,
   "id": "90979843",
   "metadata": {},
   "outputs": [],
   "source": [
    "data_dir = \"data/plinder_set_0/\"\n",
    "pred_protein = \"/home/aoxu/projects/PoseBench/forks/boltz/inference/plinder_set_0/boltz_results_1afb__1__1.A__1.D_1.F/predictions/1afb__1__1.A__1.D_1.F/1afb__1__1.A__1.D_1.F_model_0.pdb\"\n",
    "ref_protein_path = \"/home/aoxu/projects/PoseBench/data/plinder_set/1afb__1__1.A__1.D_1.F/1afb__1__1.A__1.D_1.F_protein.pdb\"\n",
    "ref_ligand_path = \"/home/aoxu/projects/PoseBench/data/plinder_set/1afb__1__1.A__1.D_1.F/1afb__1__1.A__1.D_1.F_ligand.sdf\""
   ]
  },
  {
   "cell_type": "code",
   "execution_count": 69,
   "id": "2fe3a7d2",
   "metadata": {},
   "outputs": [
    {
     "name": "stderr",
     "output_type": "stream",
     "text": [
      "@> 1207 atoms and 1 coordinate set(s) were parsed in 0.00s.\n",
      "[2025-06-19 20:37:34,158] {logger.py:135} DEBUG - 1207 atoms and 1 coordinate set(s) were parsed in 0.00s.\n"
     ]
    },
    {
     "name": "stderr",
     "output_type": "stream",
     "text": [
      "/home/aoxu/miniconda3/envs/PoseBench/lib/python3.10/site-packages/pypdb/util/http_requests.py:65: UserWarning: Too many failures on requests. Exiting...\n",
      "  warnings.warn(\"Too many failures on requests. Exiting...\")\n",
      "/home/aoxu/miniconda3/envs/PoseBench/lib/python3.10/site-packages/pypdb/pypdb.py:476: UserWarning: Retrieval failed, returning None\n",
      "  warnings.warn(\"Retrieval failed, returning None\")\n"
     ]
    },
    {
     "data": {
      "image/png": "[encoded data removed]",
      "text/plain": [
       "<rdkit.Chem.rdchem.Mol at 0x7c0e95cc3450>"
      ]
     },
     "execution_count": 69,
     "metadata": {},
     "output_type": "execute_result"
    }
   ],
   "source": [
    "tmp_dir = \"/tmp\"\n",
    "extract_protein_and_ligands_with_prody(\n",
    "    input_pdb_file=pred_protein,\n",
    "    protein_output_pdb_file=os.path.join(tmp_dir, \"pred_protein.pdb\"),\n",
    "    ligands_output_sdf_file=os.path.join(tmp_dir, \"pred_ligands.sdf\"),\n",
    ")"
   ]
  },
  {
   "cell_type": "code",
   "execution_count": 70,
   "id": "43722afb",
   "metadata": {},
   "outputs": [],
   "source": [
    "from cogligandbench.analysis.complex_alignment import (\n",
    "    save_aligned_complex,\n",
    ")"
   ]
  },
  {
   "cell_type": "code",
   "execution_count": 71,
   "id": "d7b8c89c",
   "metadata": {},
   "outputs": [],
   "source": [
    "assert os.path.exists(ref_ligand_path)\n",
    "assert os.path.exists(ref_protein_path)"
   ]
  },
  {
   "cell_type": "code",
   "execution_count": null,
   "id": "24af8445",
   "metadata": {},
   "outputs": [],
   "source": [
    "save_aligned_complex(\n",
    "    predicted_protein_pdb=os.path.join(tmp_dir, \"pred_protein.pdb\"),\n",
    "    predicted_ligand_sdf=os.path.join(tmp_dir, \"pred_ligands.sdf\"),\n",
    "    reference_protein_pdb=ref_protein_path,\n",
    "    reference_ligand_sdf=ref_ligand_path,\n",
    ")"
   ]
  },
  {
   "cell_type": "code",
   "execution_count": 73,
   "id": "2b5facb3",
   "metadata": {},
   "outputs": [
    {
     "name": "stderr",
     "output_type": "stream",
     "text": [
      "/home/aoxu/miniconda3/envs/PoseBench/lib/python3.10/site-packages/pandas/core/dtypes/cast.py:1642: DeprecationWarning: np.find_common_type is deprecated.  Please use `np.result_type` or `np.promote_types`.\n",
      "See https://numpy.org/devdocs/release/1.25.0-notes.html and the docs for more information.  (Deprecated NumPy 1.25)\n",
      "  return np.find_common_type(types, [])\n"
     ]
    },
    {
     "name": "stderr",
     "output_type": "stream",
     "text": [
      "/home/aoxu/miniconda3/envs/PoseBench/lib/python3.10/site-packages/pandas/core/dtypes/cast.py:1642: DeprecationWarning: np.find_common_type is deprecated.  Please use `np.result_type` or `np.promote_types`.\n",
      "See https://numpy.org/devdocs/release/1.25.0-notes.html and the docs for more information.  (Deprecated NumPy 1.25)\n",
      "  return np.find_common_type(types, [])\n",
      "/home/aoxu/miniconda3/envs/PoseBench/lib/python3.10/site-packages/pandas/core/dtypes/cast.py:1642: DeprecationWarning: np.find_common_type is deprecated.  Please use `np.result_type` or `np.promote_types`.\n",
      "See https://numpy.org/devdocs/release/1.25.0-notes.html and the docs for more information.  (Deprecated NumPy 1.25)\n",
      "  return np.find_common_type(types, [])\n"
     ]
    },
    {
     "data": {
      "text/html": [
       "<div>\n",
       "<style scoped>\n",
       "    .dataframe tbody tr th:only-of-type {\n",
       "        vertical-align: middle;\n",
       "    }\n",
       "\n",
       "    .dataframe tbody tr th {\n",
       "        vertical-align: top;\n",
       "    }\n",
       "\n",
       "    .dataframe thead th {\n",
       "        text-align: right;\n",
       "    }\n",
       "</style>\n",
       "<table border=\"1\" class=\"dataframe\">\n",
       "  <thead>\n",
       "    <tr style=\"text-align: right;\">\n",
       "      <th></th>\n",
       "      <th></th>\n",
       "      <th>mol_pred_loaded</th>\n",
       "      <th>mol_true_loaded</th>\n",
       "      <th>mol_cond_loaded</th>\n",
       "      <th>sanitization</th>\n",
       "      <th>all_atoms_connected</th>\n",
       "      <th>molecular_formula</th>\n",
       "      <th>molecular_bonds</th>\n",
       "      <th>double_bond_stereochemistry</th>\n",
       "      <th>tetrahedral_chirality</th>\n",
       "      <th>bond_lengths</th>\n",
       "      <th>...</th>\n",
       "      <th>most_extreme_sum_radii_scaled_waters</th>\n",
       "      <th>most_extreme_relative_distance_waters</th>\n",
       "      <th>most_extreme_clash_waters</th>\n",
       "      <th>volume_overlap_protein</th>\n",
       "      <th>volume_overlap_organic_cofactors</th>\n",
       "      <th>volume_overlap_inorganic_cofactors</th>\n",
       "      <th>volume_overlap_waters</th>\n",
       "      <th>rmsd</th>\n",
       "      <th>kabsch_rmsd</th>\n",
       "      <th>centroid_distance</th>\n",
       "    </tr>\n",
       "    <tr>\n",
       "      <th>file</th>\n",
       "      <th>molecule</th>\n",
       "      <th></th>\n",
       "      <th></th>\n",
       "      <th></th>\n",
       "      <th></th>\n",
       "      <th></th>\n",
       "      <th></th>\n",
       "      <th></th>\n",
       "      <th></th>\n",
       "      <th></th>\n",
       "      <th></th>\n",
       "      <th></th>\n",
       "      <th></th>\n",
       "      <th></th>\n",
       "      <th></th>\n",
       "      <th></th>\n",
       "      <th></th>\n",
       "      <th></th>\n",
       "      <th></th>\n",
       "      <th></th>\n",
       "      <th></th>\n",
       "      <th></th>\n",
       "    </tr>\n",
       "  </thead>\n",
       "  <tbody>\n",
       "    <tr>\n",
       "      <th>/tmp/pred_ligands_aligned.sdf</th>\n",
       "      <th>mol_at_pos_0</th>\n",
       "      <td>True</td>\n",
       "      <td>True</td>\n",
       "      <td>True</td>\n",
       "      <td>True</td>\n",
       "      <td>True</td>\n",
       "      <td>False</td>\n",
       "      <td>True</td>\n",
       "      <td>True</td>\n",
       "      <td>False</td>\n",
       "      <td>True</td>\n",
       "      <td>...</td>\n",
       "      <td>3.25</td>\n",
       "      <td>1.262752</td>\n",
       "      <td>False</td>\n",
       "      <td>0.028556</td>\n",
       "      <td>NaN</td>\n",
       "      <td>NaN</td>\n",
       "      <td>NaN</td>\n",
       "      <td>NaN</td>\n",
       "      <td>NaN</td>\n",
       "      <td>0.383036</td>\n",
       "    </tr>\n",
       "  </tbody>\n",
       "</table>\n",
       "<p>1 rows × 125 columns</p>\n",
       "</div>"
      ],
      "text/plain": [
       "                                            mol_pred_loaded  mol_true_loaded  \\\n",
       "file                          molecule                                         \n",
       "/tmp/pred_ligands_aligned.sdf mol_at_pos_0             True             True   \n",
       "\n",
       "                                            mol_cond_loaded  sanitization  \\\n",
       "file                          molecule                                      \n",
       "/tmp/pred_ligands_aligned.sdf mol_at_pos_0             True          True   \n",
       "\n",
       "                                            all_atoms_connected  \\\n",
       "file                          molecule                            \n",
       "/tmp/pred_ligands_aligned.sdf mol_at_pos_0                 True   \n",
       "\n",
       "                                            molecular_formula  \\\n",
       "file                          molecule                          \n",
       "/tmp/pred_ligands_aligned.sdf mol_at_pos_0              False   \n",
       "\n",
       "                                            molecular_bonds  \\\n",
       "file                          molecule                        \n",
       "/tmp/pred_ligands_aligned.sdf mol_at_pos_0             True   \n",
       "\n",
       "                                            double_bond_stereochemistry  \\\n",
       "file                          molecule                                    \n",
       "/tmp/pred_ligands_aligned.sdf mol_at_pos_0                         True   \n",
       "\n",
       "                                            tetrahedral_chirality  \\\n",
       "file                          molecule                              \n",
       "/tmp/pred_ligands_aligned.sdf mol_at_pos_0                  False   \n",
       "\n",
       "                                            bond_lengths  ...  \\\n",
       "file                          molecule                    ...   \n",
       "/tmp/pred_ligands_aligned.sdf mol_at_pos_0          True  ...   \n",
       "\n",
       "                                            most_extreme_sum_radii_scaled_waters  \\\n",
       "file                          molecule                                             \n",
       "/tmp/pred_ligands_aligned.sdf mol_at_pos_0                                  3.25   \n",
       "\n",
       "                                            most_extreme_relative_distance_waters  \\\n",
       "file                          molecule                                              \n",
       "/tmp/pred_ligands_aligned.sdf mol_at_pos_0                               1.262752   \n",
       "\n",
       "                                            most_extreme_clash_waters  \\\n",
       "file                          molecule                                  \n",
       "/tmp/pred_ligands_aligned.sdf mol_at_pos_0                      False   \n",
       "\n",
       "                                            volume_overlap_protein  \\\n",
       "file                          molecule                               \n",
       "/tmp/pred_ligands_aligned.sdf mol_at_pos_0                0.028556   \n",
       "\n",
       "                                            volume_overlap_organic_cofactors  \\\n",
       "file                          molecule                                         \n",
       "/tmp/pred_ligands_aligned.sdf mol_at_pos_0                               NaN   \n",
       "\n",
       "                                            volume_overlap_inorganic_cofactors  \\\n",
       "file                          molecule                                           \n",
       "/tmp/pred_ligands_aligned.sdf mol_at_pos_0                                 NaN   \n",
       "\n",
       "                                            volume_overlap_waters  rmsd  \\\n",
       "file                          molecule                                    \n",
       "/tmp/pred_ligands_aligned.sdf mol_at_pos_0                    NaN   NaN   \n",
       "\n",
       "                                            kabsch_rmsd  centroid_distance  \n",
       "file                          molecule                                      \n",
       "/tmp/pred_ligands_aligned.sdf mol_at_pos_0          NaN           0.383036  \n",
       "\n",
       "[1 rows x 125 columns]"
      ]
     },
     "execution_count": 73,
     "metadata": {},
     "output_type": "execute_result"
    }
   ],
   "source": [
    "from posebusters.posebusters import PoseBusters\n",
    "pb = PoseBusters(config=\"redock\", top_n=None)\n",
    "pb.bust(\n",
    "        mol_pred=\"/tmp/pred_ligands_aligned.sdf\",\n",
    "        mol_true=ref_ligand_path,\n",
    "        mol_cond=ref_protein_path,\n",
    "        full_report=True\n",
    ") "
   ]
  },
  {
   "cell_type": "code",
   "execution_count": 77,
   "id": "99b68383",
   "metadata": {},
   "outputs": [
    {
     "name": "stderr",
     "output_type": "stream",
     "text": [
      "@> 1192 atoms and 1 coordinate set(s) were parsed in 0.00s.\n",
      "[2025-06-19 20:37:56,571] {logger.py:135} DEBUG - 1192 atoms and 1 coordinate set(s) were parsed in 0.00s.\n",
      "@> 1194 atoms and 1 coordinate set(s) were parsed in 0.00s.\n",
      "[2025-06-19 20:37:56,576] {logger.py:135} DEBUG - 1194 atoms and 1 coordinate set(s) were parsed in 0.00s.\n"
     ]
    },
    {
     "ename": "RuntimeError",
     "evalue": "No sub-structure match found between the reference and probe mol",
     "output_type": "error",
     "traceback": [
      "\u001b[0;31m---------------------------------------------------------------------------\u001b[0m",
      "\u001b[0;31mRuntimeError\u001b[0m                              Traceback (most recent call last)",
      "Cell \u001b[0;32mIn[77], line 21\u001b[0m\n\u001b[1;32m     19\u001b[0m \u001b[38;5;28;01mif\u001b[39;00m ref_lig\u001b[38;5;241m.\u001b[39mGetNumConformers() \u001b[38;5;241m==\u001b[39m \u001b[38;5;241m0\u001b[39m:\n\u001b[1;32m     20\u001b[0m     AllChem\u001b[38;5;241m.\u001b[39mEmbedMolecule(ref_lig)\n\u001b[0;32m---> 21\u001b[0m rmsd_ligand \u001b[38;5;241m=\u001b[39m \u001b[43mAllChem\u001b[49m\u001b[38;5;241;43m.\u001b[39;49m\u001b[43mGetBestRMS\u001b[49m\u001b[43m(\u001b[49m\u001b[43mpred_lig\u001b[49m\u001b[43m,\u001b[49m\u001b[43m \u001b[49m\u001b[43mref_lig\u001b[49m\u001b[43m)\u001b[49m\n\u001b[1;32m     23\u001b[0m \u001b[38;5;28mprint\u001b[39m(\u001b[38;5;124mf\u001b[39m\u001b[38;5;124m\"\u001b[39m\u001b[38;5;124mProtein RMSD (CA): \u001b[39m\u001b[38;5;132;01m{\u001b[39;00mrmsd_protein\u001b[38;5;132;01m:\u001b[39;00m\u001b[38;5;124m.3f\u001b[39m\u001b[38;5;132;01m}\u001b[39;00m\u001b[38;5;124m Å\u001b[39m\u001b[38;5;124m\"\u001b[39m)\n\u001b[1;32m     24\u001b[0m \u001b[38;5;28;01mtry\u001b[39;00m:\n",
      "\u001b[0;31mRuntimeError\u001b[0m: No sub-structure match found between the reference and probe mol"
     ]
    }
   ],
   "source": [
    "import os\n",
    "import numpy as np\n",
    "from prody import parsePDB\n",
    "from rdkit import Chem\n",
    "from rdkit.Chem import AllChem\n",
    "\n",
    "# compute protein RMSD (CA atoms only)\n",
    "pred_prot = parsePDB(os.path.join(tmp_dir, \"pred_protein.pdb\"))\n",
    "ref_prot = parsePDB(ref_protein_path)\n",
    "pred_ca = pred_prot.select(\"name CA\")\n",
    "ref_ca = ref_prot.select(\"name CA\")\n",
    "diffs = pred_ca.getCoords() - ref_ca.getCoords()\n",
    "rmsd_protein = np.sqrt((diffs**2).sum(axis=1).mean())\n",
    "\n",
    "# compute ligand RMSD\n",
    "pred_lig_path = os.path.join(tmp_dir, \"pred_ligands_aligned.sdf\")\n",
    "pred_lig = Chem.SDMolSupplier(pred_lig_path, removeHs=False)[0]\n",
    "ref_lig = Chem.SDMolSupplier(ref_ligand_path, removeHs=False)[0]\n",
    "if ref_lig.GetNumConformers() == 0:\n",
    "    AllChem.EmbedMolecule(ref_lig)\n",
    "rmsd_ligand = AllChem.GetBestRMS(pred_lig, ref_lig)\n",
    "\n",
    "print(f\"Protein RMSD (CA): {rmsd_protein:.3f} Å\")\n",
    "try:\n",
    "    rmsd_ligand = AllChem.GetBestRMS(pred_lig, ref_lig)\n",
    "    print(f\"Ligand RMSD: {rmsd_ligand:.3f} Å\")\n",
    "except RuntimeError:\n",
    "    print(\"Ligand RMSD: could not be computed (no substructure match)\")"
   ]
  },
  {
   "cell_type": "code",
   "execution_count": 75,
   "id": "f8ca5b16",
   "metadata": {},
   "outputs": [
    {
     "name": "stdout",
     "output_type": "stream",
     "text": [
      "Ligand RMSD (Method 1): could not be computed (no match)\n",
      "Ligand RMSD (Method 2): 3.999 Å\n"
     ]
    }
   ],
   "source": [
    "from rdkit.Chem import AllChem\n",
    "\n",
    "# Method 1: Using AllChem.GetBestRMS\n",
    "try:\n",
    "    rmsd_ligand = AllChem.GetBestRMS(pred_lig, ref_lig)\n",
    "    print(\"Ligand RMSD (Method 1):\", f\"{rmsd_ligand:.3f} Å\")\n",
    "except Exception:\n",
    "    print(\"Ligand RMSD (Method 1): could not be computed (no match)\")\n",
    "\n",
    "# Method 2: Directly compute RMSD from conformer coordinates\n",
    "try:\n",
    "    pred_conf = pred_lig.GetConformer()\n",
    "    ref_conf = ref_lig.GetConformer()\n",
    "    pred_coords = np.array(pred_conf.GetPositions())\n",
    "    ref_coords = np.array(ref_conf.GetPositions())\n",
    "    rmsd = np.sqrt(np.mean(np.sum((pred_coords - ref_coords)**2, axis=1)))\n",
    "    print(\"Ligand RMSD (Method 2):\", f\"{rmsd:.3f} Å\")\n",
    "except Exception:\n",
    "    print(\"Ligand RMSD (Method 2): could not be computed (no match)\")\n"
   ]
  },
  {
   "cell_type": "code",
   "execution_count": 76,
   "id": "a8ac86a9",
   "metadata": {},
   "outputs": [
    {
     "name": "stdout",
     "output_type": "stream",
     "text": [
      "Protein CA RMSD: 7.288222795223699\n"
     ]
    },
    {
     "name": "stderr",
     "output_type": "stream",
     "text": [
      "/home/aoxu/miniconda3/envs/PoseBench/lib/python3.10/site-packages/MDAnalysis/analysis/base.py:447: UserWarning: Reader has no dt information, set to 1.0 ps\n",
      "  self.times[i] = ts.time\n",
      "/home/aoxu/miniconda3/envs/PoseBench/lib/python3.10/site-packages/MDAnalysis/coordinates/base.py:754: UserWarning: Reader has no dt information, set to 1.0 ps\n",
      "  return self.ts.time\n",
      "/home/aoxu/miniconda3/envs/PoseBench/lib/python3.10/site-packages/MDAnalysis/analysis/rms.py:722: DeprecationWarning: The `rmsd` attribute was deprecated in MDAnalysis 2.0.0 and will be removed in MDAnalysis 3.0.0. Please use `results.rmsd` instead.\n",
      "  warnings.warn(wmsg, DeprecationWarning)\n"
     ]
    }
   ],
   "source": [
    "import MDAnalysis as mda\n",
    "from MDAnalysis.analysis import rms\n",
    "\n",
    "# Load the predicted and reference protein structures\n",
    "u_pred = mda.Universe(f\"{tmp_dir}/pred_protein.pdb\")\n",
    "u_ref  = mda.Universe(ref_protein_path)\n",
    "\n",
    "# Select CA atoms from both structures\n",
    "sel_pred = u_pred.select_atoms(\"name CA\")\n",
    "sel_ref  = u_ref.select_atoms(\"name CA\")\n",
    "\n",
    "# Compute the RMSD between the two selections\n",
    "rms_obj = rms.RMSD(sel_pred, sel_ref)\n",
    "rms_obj.run()\n",
    "print(\"Protein CA RMSD:\", rms_obj.rmsd[-1, -1])\n"
   ]
  },
  {
   "cell_type": "markdown",
   "id": "b72b5828",
   "metadata": {},
   "source": [
    "# Extract the ligand and align in each case"
   ]
  },
  {
   "cell_type": "code",
   "execution_count": 12,
   "id": "e06f98a1",
   "metadata": {},
   "outputs": [
    {
     "data": {
      "text/plain": [
       "'/home/aoxu/projects/PoseBench/forks/boltz'"
      ]
     },
     "execution_count": 12,
     "metadata": {},
     "output_type": "execute_result"
    }
   ],
   "source": [
    "os.getcwd()"
   ]
  },
  {
   "cell_type": "code",
   "execution_count": 14,
   "id": "7e6bb04e",
   "metadata": {},
   "outputs": [
    {
     "name": "stdout",
     "output_type": "stream",
     "text": [
      "Data directory: /home/aoxu/projects/PoseBench/data/plinder_set\n",
      "Prediction directory: /home/aoxu/projects/PoseBench/forks/boltz/inference/plinder_set_0\n"
     ]
    }
   ],
   "source": [
    "from pathlib import Path\n",
    "data_dir = Path.cwd().parent.parent / \"data\" / \"plinder_set\"\n",
    "pred_dir = Path.cwd() / \"inference\" / \"plinder_set_0\"\n",
    "print(\n",
    "    f\"Data directory: {data_dir}\\n\"\n",
    "    f\"Prediction directory: {pred_dir}\"\n",
    ")\n"
   ]
  },
  {
   "cell_type": "code",
   "execution_count": null,
   "id": "6020fe9f",
   "metadata": {},
   "outputs": [
    {
     "name": "stdout",
     "output_type": "stream",
     "text": [
      "Processing 2xtk__2__1.B__1.L...\n"
     ]
    }
   ],
   "source": [
    "\n",
    "# Get all prediction directories\n",
    "pred_subdirs = [d for d in os.listdir(pred_dir) if os.path.isdir(os.path.join(pred_dir, d)) and d.startswith(\"boltz_results_\")]\n",
    "\n",
    "for subdir in pred_subdirs:\n",
    "    # Extract complex ID from directory name (e.g., \"boltz_results_1afb__1__1.A__1.D_1.F\" -> \"1afb__1__1.A__1.D_1.F\")\n",
    "    complex_id = subdir.replace(\"boltz_results_\", \"\")\n",
    "    \n",
    "\n",
    "    # Define paths\n",
    "    pred_pdb_path = os.path.join(pred_dir, subdir, \"predictions\", complex_id, f\"{complex_id}_model_0.pdb\")\n",
    "    ref_protein_path = os.path.join(data_dir, complex_id, f\"{complex_id}_protein.pdb\")\n",
    "    ref_ligand_path = os.path.join(data_dir, complex_id, f\"{complex_id}_ligand.sdf\")\n",
    "    \n",
    "    # Create output directory for this complex\n",
    "    output_dir = os.path.join(pred_dir, subdir, \"predictions\", complex_id)\n",
    "    \n",
    "    # Check if all required files exist\n",
    "    if not all(os.path.exists(path) for path in [pred_pdb_path, ref_protein_path, ref_ligand_path]):\n",
    "        print(f\"Skipping {complex_id}: missing files\")\n",
    "        continue\n",
    "    \n",
    "    print(f\"Processing {complex_id}...\")\n",
    "    \n",
    "    # Extract protein and ligands from prediction\n",
    "    extract_protein_and_ligands_with_prody(\n",
    "        input_pdb_file=pred_pdb_path,\n",
    "        protein_output_pdb_file=os.path.join(output_dir, f\"{complex_id}_extracted_protein.pdb\"),\n",
    "        ligands_output_sdf_file=os.path.join(output_dir, f\"{complex_id}_extracted_ligands.sdf\"),\n",
    "    )\n",
    "    \n",
    "    # Save aligned complex\n",
    "    save_aligned_complex(\n",
    "        predicted_protein_pdb=os.path.join(output_dir, f\"{complex_id}_aligned_protein.pdb\"),\n",
    "        predicted_ligand_sdf=os.path.join(output_dir, f\"{complex_id}_aligned_ligands.sdf\"),\n",
    "        reference_protein_pdb=ref_protein_path,\n",
    "        reference_ligand_sdf=ref_ligand_path,\n",
    "    )"
   ]
  }
 ],
 "metadata": {
  "kernelspec": {
   "display_name": "PoseBench",
   "language": "python",
   "name": "python3"
  },
  "language_info": {
   "codemirror_mode": {
    "name": "ipython",
    "version": 3
   },
   "file_extension": ".py",
   "mimetype": "text/x-python",
   "name": "python",
   "nbconvert_exporter": "python",
   "pygments_lexer": "ipython3",
   "version": "3.10.14"
  }
 },
 "nbformat": 4,
 "nbformat_minor": 5
}
