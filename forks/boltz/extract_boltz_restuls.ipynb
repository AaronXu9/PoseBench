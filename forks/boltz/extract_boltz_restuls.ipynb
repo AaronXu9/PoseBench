{
 "cells": [
  {
   "cell_type": "code",
   "execution_count": 6,
   "id": "3a12aaed",
   "metadata": {},
   "outputs": [
    {
     "ename": "AttributeError",
     "evalue": "module 'hydra' has no attribute 'main'",
     "output_type": "error",
     "traceback": [
      "\u001b[0;31m---------------------------------------------------------------------------\u001b[0m",
      "\u001b[0;31mAttributeError\u001b[0m                            Traceback (most recent call last)",
      "Cell \u001b[0;32mIn[6], line 16\u001b[0m\n\u001b[1;32m     13\u001b[0m     \u001b[38;5;28;01mimport\u001b[39;00m \u001b[38;5;21;01mhydra\u001b[39;00m\n\u001b[1;32m     15\u001b[0m \u001b[38;5;66;03m# Now try the imports\u001b[39;00m\n\u001b[0;32m---> 16\u001b[0m \u001b[38;5;28;01mfrom\u001b[39;00m \u001b[38;5;21;01mposebench\u001b[39;00m\u001b[38;5;21;01m.\u001b[39;00m\u001b[38;5;21;01mutils\u001b[39;00m\u001b[38;5;21;01m.\u001b[39;00m\u001b[38;5;21;01mdata_utils\u001b[39;00m \u001b[38;5;28;01mimport\u001b[39;00m (\n\u001b[1;32m     17\u001b[0m     extract_protein_and_ligands_with_prody,\n\u001b[1;32m     18\u001b[0m     parse_inference_inputs_from_dir,\n\u001b[1;32m     19\u001b[0m )\n",
      "File \u001b[0;32m~/projects/DrugDiscovery/PoseBench/posebench/utils/data_utils.py:29\u001b[0m\n\u001b[1;32m     25\u001b[0m \u001b[38;5;28;01mfrom\u001b[39;00m \u001b[38;5;21;01mrdkit\u001b[39;00m\u001b[38;5;21;01m.\u001b[39;00m\u001b[38;5;21;01mChem\u001b[39;00m \u001b[38;5;28;01mimport\u001b[39;00m AllChem\n\u001b[1;32m     27\u001b[0m rootutils\u001b[38;5;241m.\u001b[39msetup_root(\u001b[38;5;18m__file__\u001b[39m, indicator\u001b[38;5;241m=\u001b[39m\u001b[38;5;124m\"\u001b[39m\u001b[38;5;124m.project-root\u001b[39m\u001b[38;5;124m\"\u001b[39m, pythonpath\u001b[38;5;241m=\u001b[39m\u001b[38;5;28;01mTrue\u001b[39;00m)\n\u001b[0;32m---> 29\u001b[0m \u001b[38;5;28;01mfrom\u001b[39;00m \u001b[38;5;21;01mposebench\u001b[39;00m\u001b[38;5;21;01m.\u001b[39;00m\u001b[38;5;21;01mdata\u001b[39;00m\u001b[38;5;21;01m.\u001b[39;00m\u001b[38;5;21;01mcomponents\u001b[39;00m\u001b[38;5;21;01m.\u001b[39;00m\u001b[38;5;21;01mprotein_apo_to_holo_alignment\u001b[39;00m \u001b[38;5;28;01mimport\u001b[39;00m read_molecule\n\u001b[1;32m     31\u001b[0m logging\u001b[38;5;241m.\u001b[39mbasicConfig(\u001b[38;5;28mformat\u001b[39m\u001b[38;5;241m=\u001b[39m\u001b[38;5;124m\"\u001b[39m\u001b[38;5;124m[\u001b[39m\u001b[38;5;132;01m%(asctime)s\u001b[39;00m\u001b[38;5;124m] \u001b[39m\u001b[38;5;124m{\u001b[39m\u001b[38;5;132;01m%(filename)s\u001b[39;00m\u001b[38;5;124m:\u001b[39m\u001b[38;5;132;01m%(lineno)d\u001b[39;00m\u001b[38;5;124m} \u001b[39m\u001b[38;5;132;01m%(levelname)s\u001b[39;00m\u001b[38;5;124m - \u001b[39m\u001b[38;5;132;01m%(message)s\u001b[39;00m\u001b[38;5;124m\"\u001b[39m)\n\u001b[1;32m     32\u001b[0m logger \u001b[38;5;241m=\u001b[39m logging\u001b[38;5;241m.\u001b[39mgetLogger(\u001b[38;5;18m__name__\u001b[39m)\n",
      "File \u001b[0;32m~/projects/DrugDiscovery/PoseBench/posebench/data/components/protein_apo_to_holo_alignment.py:460\u001b[0m\n\u001b[1;32m    456\u001b[0m     ppdb_predicted\u001b[38;5;241m.\u001b[39mdf[atom_df_name][[\u001b[38;5;124m\"\u001b[39m\u001b[38;5;124mx_coord\u001b[39m\u001b[38;5;124m\"\u001b[39m, \u001b[38;5;124m\"\u001b[39m\u001b[38;5;124my_coord\u001b[39m\u001b[38;5;124m\"\u001b[39m, \u001b[38;5;124m\"\u001b[39m\u001b[38;5;124mz_coord\u001b[39m\u001b[38;5;124m\"\u001b[39m]] \u001b[38;5;241m=\u001b[39m ppdb_predicted_aligned\n\u001b[1;32m    457\u001b[0m     ppdb_predicted\u001b[38;5;241m.\u001b[39mto_pdb(path\u001b[38;5;241m=\u001b[39mpredicted_protein_output_filename, records\u001b[38;5;241m=\u001b[39m[atom_df_name], gz\u001b[38;5;241m=\u001b[39m\u001b[38;5;28;01mFalse\u001b[39;00m)\n\u001b[0;32m--> 460\u001b[0m \u001b[38;5;129m@hydra\u001b[39m\u001b[38;5;241;43m.\u001b[39;49m\u001b[43mmain\u001b[49m(\n\u001b[1;32m    461\u001b[0m     version_base\u001b[38;5;241m=\u001b[39m\u001b[38;5;124m\"\u001b[39m\u001b[38;5;124m1.3\u001b[39m\u001b[38;5;124m\"\u001b[39m,\n\u001b[1;32m    462\u001b[0m     config_path\u001b[38;5;241m=\u001b[39m\u001b[38;5;124m\"\u001b[39m\u001b[38;5;124m../../../configs/data/components\u001b[39m\u001b[38;5;124m\"\u001b[39m,\n\u001b[1;32m    463\u001b[0m     config_name\u001b[38;5;241m=\u001b[39m\u001b[38;5;124m\"\u001b[39m\u001b[38;5;124mprotein_apo_to_holo_alignment.yaml\u001b[39m\u001b[38;5;124m\"\u001b[39m,\n\u001b[1;32m    464\u001b[0m )\n\u001b[1;32m    465\u001b[0m \u001b[38;5;28;01mdef\u001b[39;00m \u001b[38;5;21mmain\u001b[39m(cfg: DictConfig):\n\u001b[1;32m    466\u001b[0m \u001b[38;5;250m    \u001b[39m\u001b[38;5;124;03m\"\"\"Align all predicted apo structures to their corresponding holo structures.\u001b[39;00m\n\u001b[1;32m    467\u001b[0m \n\u001b[1;32m    468\u001b[0m \u001b[38;5;124;03m    :param cfg: Hydra config for the alignments.\u001b[39;00m\n\u001b[1;32m    469\u001b[0m \u001b[38;5;124;03m    \"\"\"\u001b[39;00m\n\u001b[1;32m    470\u001b[0m     \u001b[38;5;28;01mif\u001b[39;00m cfg\u001b[38;5;241m.\u001b[39mdataset \u001b[38;5;129;01mnot\u001b[39;00m \u001b[38;5;129;01min\u001b[39;00m [\u001b[38;5;124m\"\u001b[39m\u001b[38;5;124mposebusters_benchmark\u001b[39m\u001b[38;5;124m\"\u001b[39m, \u001b[38;5;124m\"\u001b[39m\u001b[38;5;124mastex_diverse\u001b[39m\u001b[38;5;124m\"\u001b[39m, \u001b[38;5;124m\"\u001b[39m\u001b[38;5;124mdockgen\u001b[39m\u001b[38;5;124m\"\u001b[39m, \u001b[38;5;124m\"\u001b[39m\u001b[38;5;124mcasp15\u001b[39m\u001b[38;5;124m\"\u001b[39m]:\n",
      "\u001b[0;31mAttributeError\u001b[0m: module 'hydra' has no attribute 'main'"
     ]
    }
   ],
   "source": [
    "import rootutils\n",
    "import os\n",
    "rootutils.setup_root(os.getcwd(), indicator=\".project-root\", pythonpath=True)\n",
    "\n",
    "# Install hydra if missing\n",
    "try:\n",
    "    import hydra\n",
    "    # print(f\"Hydra version: {hydra.__version__}\")\n",
    "except ImportError:\n",
    "    print(\"Installing hydra...\")\n",
    "    import subprocess\n",
    "    subprocess.check_call([\"pip\", \"install\", \"hydra-core\"])\n",
    "    import hydra\n",
    "\n",
    "# Now try the imports\n",
    "from posebench.utils.data_utils import (\n",
    "    extract_protein_and_ligands_with_prody,\n",
    "    parse_inference_inputs_from_dir,\n",
    ")"
   ]
  },
  {
   "cell_type": "code",
   "execution_count": null,
   "id": "fa7bf606",
   "metadata": {},
   "outputs": [],
   "source": []
  }
 ],
 "metadata": {
  "kernelspec": {
   "display_name": "molpal",
   "language": "python",
   "name": "python3"
  },
  "language_info": {
   "codemirror_mode": {
    "name": "ipython",
    "version": 3
   },
   "file_extension": ".py",
   "mimetype": "text/x-python",
   "name": "python",
   "nbconvert_exporter": "python",
   "pygments_lexer": "ipython3",
   "version": "3.8.18"
  }
 },
 "nbformat": 4,
 "nbformat_minor": 5
}
