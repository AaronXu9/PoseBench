{
 "cells": [
  {
   "cell_type": "code",
   "execution_count": 7,
   "metadata": {},
   "outputs": [],
   "source": [
    "import os\n",
    "import multiprocessing\n",
    "import gc\n",
    "import time \n",
    "import glob\n",
    "import tqdm\n",
    "\n",
    "from dock import ICMBatchDocking"
   ]
  },
  {
   "cell_type": "code",
   "execution_count": 8,
   "metadata": {},
   "outputs": [
    {
     "name": "stdout",
     "output_type": "stream",
     "text": [
      "/home/aoxu/projects/PoseBench/forks/ICM\n",
      "/home/aoxu/projects/PoseBench/forks\n"
     ]
    }
   ],
   "source": [
    "current_dir = os.getcwd()\n",
    "print(current_dir)\n",
    "os.chdir(\"..\")\n",
    "print(os.getcwd())\n"
   ]
  },
  {
   "cell_type": "code",
   "execution_count": 9,
   "metadata": {},
   "outputs": [],
   "source": [
    "# Local Mac Config\n",
    "DATASET = \"plinder_set\"\n",
    "BASE_DIR = f\"/home/aoxu/projects/PoseBench/data/{DATASET}/\"\n",
    "SUBSET_DIR = \"/home/aoxu/projects/PoseBench/forks/DiffDock/inference/diffdock_posebusters_benchmark_output_orig_structure_1/\"\n",
    "ICM_EXECUTABLE = \"/home/aoxu/icm-3.9-4/icm64\"\n",
    "ICM_DOCKING_DIR = \"/home/aoxu/projects/PoseBench/forks/ICM\"\n",
    "DOCKING_MAPS = \"manual\"\n",
    "dock_scan_path = \"/home/aoxu/icm-3.9-4/_dockScan\""
   ]
  },
  {
   "cell_type": "code",
   "execution_count": 10,
   "metadata": {},
   "outputs": [],
   "source": [
    "# Linux Workstation Config\n",
    "# Configure these paths according to your setup\n",
    "DATASET = \"plinder_set\"\n",
    "DATA_DIR = f\"/home/aoxu/projects/PoseBench/data/{DATASET}/\"\n",
    "SUBSET_DIR = None\n",
    "ICM_EXECUTABLE = \"/home/aoxu/icm-3.9-4/icm64\"\n",
    "ICM_DOCKING_DIR = \"/home/aoxu/projects/PoseBench/forks/ICM\"\n",
    "DOCKING_MAPS = \"manual\"\n",
    "repeat_index = 0\n",
    "dock_scan_path=\"/home/aoxu/icm-3.9-4/_dockScan\","
   ]
  },
  {
   "cell_type": "markdown",
   "metadata": {},
   "source": [
    "## Proprocess the input protein and ligand"
   ]
  },
  {
   "cell_type": "code",
   "execution_count": 11,
   "metadata": {},
   "outputs": [],
   "source": [
    "ICM_SCRIPT_TEMPLATE = \"icm_docking_scripts_template/icm_load_and_preprocessing_template.icm\"\n",
    "# Create docking processor instance\n",
    "docking_processor = ICMBatchDocking(\n",
    "    data_dir=DATA_DIR,\n",
    "    icm_script_template=ICM_SCRIPT_TEMPLATE,\n",
    "    icm_executable=ICM_EXECUTABLE,\n",
    "    subset_dir=SUBSET_DIR,\n",
    "    icm_docking_dir=ICM_DOCKING_DIR,\n",
    "    docking_maps=DOCKING_MAPS,\n",
    ")"
   ]
  },
  {
   "cell_type": "code",
   "execution_count": 12,
   "metadata": {},
   "outputs": [
    {
     "name": "stdout",
     "output_type": "stream",
     "text": [
      "Found 1036 valid protein-ligand pairs\n",
      "\n",
      "Processing 1afb__1__1.A__1.D_1.F...\n"
     ]
    },
    {
     "ename": "FileNotFoundError",
     "evalue": "[Errno 2] No such file or directory: 'icm_docking_scripts_template/icm_load_and_preprocessing_template.icm'",
     "output_type": "error",
     "traceback": [
      "\u001b[0;31m---------------------------------------------------------------------------\u001b[0m",
      "\u001b[0;31mFileNotFoundError\u001b[0m                         Traceback (most recent call last)",
      "Cell \u001b[0;32mIn[12], line 2\u001b[0m\n\u001b[1;32m      1\u001b[0m STAGE \u001b[38;5;241m=\u001b[39m \u001b[38;5;124m\"\u001b[39m\u001b[38;5;124mpreprocessing\u001b[39m\u001b[38;5;124m\"\u001b[39m    \n\u001b[0;32m----> 2\u001b[0m \u001b[43mdocking_processor\u001b[49m\u001b[38;5;241;43m.\u001b[39;49m\u001b[43mrun_docking_preparation\u001b[49m\u001b[43m(\u001b[49m\u001b[43mnum_conf\u001b[49m\u001b[38;5;241;43m=\u001b[39;49m\u001b[38;5;241;43m100\u001b[39;49m\u001b[43m,\u001b[49m\u001b[43m \u001b[49m\u001b[43mstage\u001b[49m\u001b[38;5;241;43m=\u001b[39;49m\u001b[43mSTAGE\u001b[49m\u001b[43m)\u001b[49m\n",
      "File \u001b[0;32m~/projects/PoseBench/forks/ICM/icm/dock.py:242\u001b[0m, in \u001b[0;36mrun_docking_preparation\u001b[0;34m(self, num_conf, stage)\u001b[0m\n\u001b[1;32m    239\u001b[0m os\u001b[38;5;241m.\u001b[39mmakedirs(work_dir, exist_ok\u001b[38;5;241m=\u001b[39m\u001b[38;5;28;01mTrue\u001b[39;00m)\n\u001b[1;32m    241\u001b[0m \u001b[38;5;66;03m# Create modixfied script for this protein\u001b[39;00m\n\u001b[0;32m--> 242\u001b[0m script_path \u001b[38;5;241m=\u001b[39m os\u001b[38;5;241m.\u001b[39mpath\u001b[38;5;241m.\u001b[39mjoin(work_dir, \u001b[38;5;124mf\u001b[39m\u001b[38;5;124m\"\u001b[39m\u001b[38;5;132;01m{\u001b[39;00mpair[\u001b[38;5;124m'\u001b[39m\u001b[38;5;124mligand_name\u001b[39m\u001b[38;5;124m'\u001b[39m]\u001b[38;5;132;01m}\u001b[39;00m\u001b[38;5;124m_script.icm\u001b[39m\u001b[38;5;124m\"\u001b[39m)\n\u001b[1;32m    244\u001b[0m \u001b[38;5;28mself\u001b[39m\u001b[38;5;241m.\u001b[39mcreate_modified_script(data_dir, \u001b[38;5;28mself\u001b[39m\u001b[38;5;241m.\u001b[39micm_script_template, script_path, \u001b[38;5;28mself\u001b[39m\u001b[38;5;241m.\u001b[39mconfig[\u001b[38;5;124m'\u001b[39m\u001b[38;5;124micb_out_dir\u001b[39m\u001b[38;5;124m'\u001b[39m], pair[\u001b[38;5;124m'\u001b[39m\u001b[38;5;124mprotein_name\u001b[39m\u001b[38;5;124m'\u001b[39m])\n\u001b[1;32m    246\u001b[0m \u001b[38;5;66;03m# Copy necessary files to working directory\u001b[39;00m\n\u001b[1;32m    247\u001b[0m \u001b[38;5;66;03m# shutil.copy2(pair['pdb_path'], work_dir)\u001b[39;00m\n\u001b[1;32m    248\u001b[0m \u001b[38;5;66;03m# shutil.copy2(pair['sdf_path'], work_dir)\u001b[39;00m\n\u001b[1;32m    249\u001b[0m \n\u001b[1;32m    250\u001b[0m \u001b[38;5;66;03m# create the subdirectories for docking maps\u001b[39;00m\n",
      "File \u001b[0;32m~/projects/PoseBench/forks/ICM/icm/dock.py:107\u001b[0m, in \u001b[0;36mICMBatchDocking.create_modified_script\u001b[0;34m(self, template_path, output_path, protein_name)\u001b[0m\n\u001b[1;32m     98\u001b[0m \u001b[38;5;28;01mdef\u001b[39;00m \u001b[38;5;21mcreate_modified_script\u001b[39m(\u001b[38;5;28mself\u001b[39m, data_dir, template_path, script_out_path, icb_out_dir, protein_name):\n\u001b[1;32m     99\u001b[0m \u001b[38;5;250m    \u001b[39m\u001b[38;5;124;03m\"\"\"\u001b[39;00m\n\u001b[1;32m    100\u001b[0m \u001b[38;5;124;03m    Create a modified ICM script with the correct protein name.\u001b[39;00m\n\u001b[1;32m    101\u001b[0m \u001b[38;5;124;03m    \u001b[39;00m\n\u001b[0;32m   (...)\u001b[0m\n\u001b[1;32m    105\u001b[0m \u001b[38;5;124;03m    For other datasets, protein_name is used throughout.\u001b[39;00m\n\u001b[1;32m    106\u001b[0m \u001b[38;5;124;03m    \"\"\"\u001b[39;00m\n\u001b[0;32m--> 107\u001b[0m     \u001b[38;5;28;01mwith\u001b[39;00m \u001b[38;5;28mopen\u001b[39m(template_path, \u001b[38;5;124m'\u001b[39m\u001b[38;5;124mr\u001b[39m\u001b[38;5;124m'\u001b[39m) \u001b[38;5;28;01mas\u001b[39;00m f:\n\u001b[1;32m    108\u001b[0m         template_content \u001b[38;5;241m=\u001b[39m f\u001b[38;5;241m.\u001b[39mread()\n\u001b[1;32m    110\u001b[0m     \u001b[38;5;66;03m# First, replace the dataset placeholder in the entire template.\u001b[39;00m\n",
      "\u001b[0;31mFileNotFoundError\u001b[0m: [Errno 2] No such file or directory: 'icm_docking_scripts_template/icm_load_and_preprocessing_template.icm'"
     ]
    }
   ],
   "source": [
    "STAGE = \"preprocessing\"    \n",
    "docking_processor.run_docking_preparation(num_conf=100, stage=STAGE)"
   ]
  },
  {
   "cell_type": "markdown",
   "metadata": {},
   "source": [
    "## Pocket Identification "
   ]
  },
  {
   "cell_type": "code",
   "execution_count": null,
   "metadata": {},
   "outputs": [],
   "source": [
    "ICM_SCRIPT_TEMPLATE = \"icm_docking_scripts_template/icm_pocket_identification_template.icm\"\n",
    "docking_processor = ICMBatchDocking(\n",
    "    base_dir=BASE_DIR,\n",
    "    icm_script_template=ICM_SCRIPT_TEMPLATE,\n",
    "    icm_executable=ICM_EXECUTABLE,\n",
    "    subset_dir=SUBSET_DIR,\n",
    "    icm_docking_dir=ICM_DOCKING_DIR,\n",
    "    docking_maps=DOCKING_MAPS\n",
    ")"
   ]
  },
  {
   "cell_type": "code",
   "execution_count": null,
   "metadata": {},
   "outputs": [],
   "source": [
    "STAGE = \"pocket_identification\"\n",
    "docking_processor.run_docking(num_conf=100, stage=STAGE)"
   ]
  },
  {
   "cell_type": "markdown",
   "metadata": {},
   "source": [
    "## Dock Molecule "
   ]
  },
  {
   "cell_type": "code",
   "execution_count": null,
   "metadata": {},
   "outputs": [],
   "source": [
    "# Configure these paths according to your setup\n",
    "BASE_DIR = \"/Users/aoxu/projects/DrugDiscovery/PoseBench/data/posebusters_benchmark_set\"\n",
    "SUBSET_DIR = \"/Users/aoxu/projects/DrugDiscovery/PoseBench/forks/DiffDock/inference/diffdock_posebusters_benchmark_output_orig_structure_1/\"\n",
    "ICM_EXECUTABLE = \"/Applications/MolsoftICM64.app/Contents/MacOS/icm64\"\n",
    "ICM_DOCKING_DIR = \"/Users/aoxu/projects/DrugDiscovery/PoseBench/forks/ICM\"\n",
    "DOCKING_MAPS = \"manual\"\n",
    "dock_scan_path=\"/Applications/MolsoftICM64.app/Contents/Resources/icm/_dockScan\",\n",
    "\n",
    "\n",
    "# Create docking processor instance\n",
    "docking_processor = ICMBatchDocking(\n",
    "    base_dir=BASE_DIR,\n",
    "    icm_executable=ICM_EXECUTABLE,\n",
    "    icm_dockscan_path=dock_scan_path,\n",
    "    icm_script_template=None,\n",
    "    subset_dir=SUBSET_DIR,\n",
    "    icm_docking_dir=ICM_DOCKING_DIR,\n",
    "    docking_maps=DOCKING_MAPS\n",
    ")\n",
    "\n",
    "# Run docking with specified number of conformations\n",
    "docking_processor.run_docking(num_conf=10, thorough=10)\n"
   ]
  }
 ],
 "metadata": {
  "kernelspec": {
   "display_name": "PoseBench",
   "language": "python",
   "name": "python3"
  },
  "language_info": {
   "codemirror_mode": {
    "name": "ipython",
    "version": 3
   },
   "file_extension": ".py",
   "mimetype": "text/x-python",
   "name": "python",
   "nbconvert_exporter": "python",
   "pygments_lexer": "ipython3",
   "version": "3.10.14"
  }
 },
 "nbformat": 4,
 "nbformat_minor": 2
}
