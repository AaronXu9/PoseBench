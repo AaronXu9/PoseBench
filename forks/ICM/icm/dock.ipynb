{
 "cells": [
  {
   "cell_type": "code",
   "execution_count": 1,
   "metadata": {},
   "outputs": [],
   "source": [
    "import os\n",
    "import multiprocessing\n",
    "import gc\n",
    "import time \n",
    "import glob\n",
    "import tqdm\n",
    "\n",
    "from dock import ICMBatchDocking"
   ]
  },
  {
   "cell_type": "code",
   "execution_count": 2,
   "metadata": {},
   "outputs": [
    {
     "name": "stdout",
     "output_type": "stream",
     "text": [
      "/home/aoxu/projects/PoseBench/forks/ICM/icm\n",
      "/home/aoxu/projects/PoseBench/forks/ICM\n"
     ]
    }
   ],
   "source": [
    "current_dir = os.getcwd()\n",
    "print(current_dir)\n",
    "os.chdir(\"..\")\n",
    "print(os.getcwd())\n"
   ]
  },
  {
   "cell_type": "code",
   "execution_count": 3,
   "metadata": {},
   "outputs": [],
   "source": [
    "# Local Mac Config\n",
    "DATASET = \"plinder_set\"\n",
    "BASE_DIR = f\"/home/aoxu/projects/PoseBench/data/{DATASET}/\"\n",
    "SUBSET_DIR = \"/home/aoxu/projects/PoseBench/forks/DiffDock/inference/diffdock_posebusters_benchmark_output_orig_structure_1/\"\n",
    "ICM_EXECUTABLE = \"/home/aoxu/icm-3.9-4/icm64\"\n",
    "ICM_DOCKING_DIR = \"/home/aoxu/projects/PoseBench/forks/ICM\"\n",
    "DOCKING_MAPS = \"manual\"\n",
    "dock_scan_path = \"/home/aoxu/icm-3.9-4/_dockScan\""
   ]
  },
  {
   "cell_type": "code",
   "execution_count": 4,
   "metadata": {},
   "outputs": [],
   "source": [
    "# Linux Workstation Config\n",
    "# Configure these paths according to your setup\n",
    "DATASET = \"plinder_set\"\n",
    "DATA_DIR = f\"/home/aoxu/projects/PoseBench/data/{DATASET}/\"\n",
    "SUBSET_DIR = None\n",
    "ICM_EXECUTABLE = \"/home/aoxu/icm-3.9-4/icm64\"\n",
    "ICM_DOCKING_DIR = \"/home/aoxu/projects/PoseBench/forks/ICM\"\n",
    "DOCKING_MAPS = \"manual\"\n",
    "repeat_index = 0\n",
    "dock_scan_path=\"/home/aoxu/icm-3.9-4/_dockScan\","
   ]
  },
  {
   "cell_type": "markdown",
   "metadata": {},
   "source": [
    "## Proprocess the input protein and ligand"
   ]
  },
  {
   "cell_type": "code",
   "execution_count": 5,
   "metadata": {},
   "outputs": [],
   "source": [
    "ICM_SCRIPT_TEMPLATE = \"icm_docking_scripts_template/icm_load_and_preprocessing_template.icm\"\n",
    "# Create docking processor instance\n",
    "docking_processor = ICMBatchDocking(\n",
    "    data_dir=DATA_DIR,\n",
    "    icm_script_template=ICM_SCRIPT_TEMPLATE,\n",
    "    icm_executable=ICM_EXECUTABLE,\n",
    "    subset_dir=SUBSET_DIR,\n",
    "    icm_docking_dir=ICM_DOCKING_DIR,\n",
    "    docking_maps=DOCKING_MAPS,\n",
    ")"
   ]
  },
  {
   "cell_type": "code",
   "execution_count": 6,
   "metadata": {},
   "outputs": [
    {
     "name": "stdout",
     "output_type": "stream",
     "text": [
      "Found 1036 valid protein-ligand pairs\n",
      "\n",
      "Processing 1afb__1__1.A__1.D_1.F...\n",
      "Running command: ['/home/aoxu/icm-3.9-4/icm64', '-g', './icm_docking_scripts/preprocessing/1afb__1__1.A__1.D_1.F_script.icm']\n",
      "Startup> Loading config file /home/aoxu/.icm/config/icm.cfg ..\n",
      " Info>  127 colors and 18 graphic modes read from /home/aoxu/icm-3.9-4/icm.clr\n"
     ]
    },
    {
     "name": "stderr",
     "output_type": "stream",
     "text": [
      "icm64: cannot connect to X server \n"
     ]
    },
    {
     "name": "stdout",
     "output_type": "stream",
     "text": [
      "Error processing 1afb__1__1.A__1.D_1.F: Command '['/home/aoxu/icm-3.9-4/icm64', '-g', './icm_docking_scripts/preprocessing/1afb__1__1.A__1.D_1.F_script.icm']' returned non-zero exit status 1.\n",
      "\n",
      "Processing 1b5d__1__1.A_1.B__1.D...\n",
      "Running command: ['/home/aoxu/icm-3.9-4/icm64', '-g', './icm_docking_scripts/preprocessing/1b5d__1__1.A_1.B__1.D_script.icm']\n",
      "Startup> Loading config file /home/aoxu/.icm/config/icm.cfg ..\n",
      " Info>  127 colors and 18 graphic modes read from /home/aoxu/icm-3.9-4/icm.clr\n",
      "Error processing 1b5d__1__1.A_1.B__1.D: Command '['/home/aoxu/icm-3.9-4/icm64', '-g', './icm_docking_scripts/preprocessing/1b5d__1__1.A_1.B__1.D_script.icm']' returned non-zero exit status 1.\n",
      "\n",
      "Processing 1bcj__1__1.B__1.I_1.K...\n",
      "Running command: ['/home/aoxu/icm-3.9-4/icm64', '-g', './icm_docking_scripts/preprocessing/1bcj__1__1.B__1.I_1.K_script.icm']\n"
     ]
    },
    {
     "name": "stderr",
     "output_type": "stream",
     "text": [
      "icm64: cannot connect to X server \n"
     ]
    },
    {
     "name": "stdout",
     "output_type": "stream",
     "text": [
      "Startup> Loading config file /home/aoxu/.icm/config/icm.cfg ..\n",
      " Info>  127 colors and 18 graphic modes read from /home/aoxu/icm-3.9-4/icm.clr\n",
      "Error processing 1bcj__1__1.B__1.I_1.K: Command '['/home/aoxu/icm-3.9-4/icm64', '-g', './icm_docking_scripts/preprocessing/1bcj__1__1.B__1.I_1.K_script.icm']' returned non-zero exit status 1.\n",
      "\n",
      "Processing 1ci0__1__1.A_1.B__1.D...\n",
      "Running command: ['/home/aoxu/icm-3.9-4/icm64', '-g', './icm_docking_scripts/preprocessing/1ci0__1__1.A_1.B__1.D_script.icm']\n"
     ]
    },
    {
     "name": "stderr",
     "output_type": "stream",
     "text": [
      "icm64: cannot connect to X server \n"
     ]
    },
    {
     "ename": "KeyboardInterrupt",
     "evalue": "",
     "output_type": "error",
     "traceback": [
      "\u001b[0;31m---------------------------------------------------------------------------\u001b[0m",
      "\u001b[0;31mKeyboardInterrupt\u001b[0m                         Traceback (most recent call last)",
      "Cell \u001b[0;32mIn[6], line 2\u001b[0m\n\u001b[1;32m      1\u001b[0m STAGE \u001b[38;5;241m=\u001b[39m \u001b[38;5;124m\"\u001b[39m\u001b[38;5;124mpreprocessing\u001b[39m\u001b[38;5;124m\"\u001b[39m    \n\u001b[0;32m----> 2\u001b[0m \u001b[43mdocking_processor\u001b[49m\u001b[38;5;241;43m.\u001b[39;49m\u001b[43mrun_docking_preparation\u001b[49m\u001b[43m(\u001b[49m\u001b[43mnum_conf\u001b[49m\u001b[38;5;241;43m=\u001b[39;49m\u001b[38;5;241;43m100\u001b[39;49m\u001b[43m,\u001b[49m\u001b[43m \u001b[49m\u001b[43mstage\u001b[49m\u001b[38;5;241;43m=\u001b[39;49m\u001b[43mSTAGE\u001b[49m\u001b[43m)\u001b[49m\n",
      "File \u001b[0;32m~/projects/PoseBench/forks/ICM/icm/dock.py:238\u001b[0m, in \u001b[0;36mICMBatchDocking.run_docking_preparation\u001b[0;34m(self, num_conf, stage)\u001b[0m\n\u001b[1;32m    236\u001b[0m     \u001b[38;5;28mprint\u001b[39m(\u001b[38;5;124mf\u001b[39m\u001b[38;5;124m\"\u001b[39m\u001b[38;5;124mRunning command: \u001b[39m\u001b[38;5;132;01m{\u001b[39;00mcmd\u001b[38;5;132;01m}\u001b[39;00m\u001b[38;5;124m\"\u001b[39m)\n\u001b[1;32m    237\u001b[0m     \u001b[38;5;66;03m# subprocess.run(cmd, shell=True, check=True)\u001b[39;00m\n\u001b[0;32m--> 238\u001b[0m     \u001b[43msubprocess\u001b[49m\u001b[38;5;241;43m.\u001b[39;49m\u001b[43mrun\u001b[49m\u001b[43m(\u001b[49m\u001b[43mcmd\u001b[49m\u001b[43m,\u001b[49m\u001b[43m \u001b[49m\u001b[43mcheck\u001b[49m\u001b[38;5;241;43m=\u001b[39;49m\u001b[38;5;28;43;01mTrue\u001b[39;49;00m\u001b[43m,\u001b[49m\u001b[43m \u001b[49m\u001b[43menv\u001b[49m\u001b[38;5;241;43m=\u001b[39;49m\u001b[38;5;28;43mself\u001b[39;49m\u001b[38;5;241;43m.\u001b[39;49m\u001b[43menv\u001b[49m\u001b[43m)\u001b[49m\n\u001b[1;32m    240\u001b[0m     \u001b[38;5;28mprint\u001b[39m(\u001b[38;5;124mf\u001b[39m\u001b[38;5;124m\"\u001b[39m\u001b[38;5;124mSuccessfully completed docking for \u001b[39m\u001b[38;5;132;01m{\u001b[39;00mpair[\u001b[38;5;124m'\u001b[39m\u001b[38;5;124mligand_name\u001b[39m\u001b[38;5;124m'\u001b[39m]\u001b[38;5;132;01m}\u001b[39;00m\u001b[38;5;124m\"\u001b[39m)\n\u001b[1;32m    242\u001b[0m \u001b[38;5;28;01mexcept\u001b[39;00m subprocess\u001b[38;5;241m.\u001b[39mCalledProcessError \u001b[38;5;28;01mas\u001b[39;00m e:\n",
      "File \u001b[0;32m~/miniconda3/envs/PoseBench/lib/python3.10/subprocess.py:505\u001b[0m, in \u001b[0;36mrun\u001b[0;34m(input, capture_output, timeout, check, *popenargs, **kwargs)\u001b[0m\n\u001b[1;32m    503\u001b[0m \u001b[38;5;28;01mwith\u001b[39;00m Popen(\u001b[38;5;241m*\u001b[39mpopenargs, \u001b[38;5;241m*\u001b[39m\u001b[38;5;241m*\u001b[39mkwargs) \u001b[38;5;28;01mas\u001b[39;00m process:\n\u001b[1;32m    504\u001b[0m     \u001b[38;5;28;01mtry\u001b[39;00m:\n\u001b[0;32m--> 505\u001b[0m         stdout, stderr \u001b[38;5;241m=\u001b[39m \u001b[43mprocess\u001b[49m\u001b[38;5;241;43m.\u001b[39;49m\u001b[43mcommunicate\u001b[49m\u001b[43m(\u001b[49m\u001b[38;5;28;43minput\u001b[39;49m\u001b[43m,\u001b[49m\u001b[43m \u001b[49m\u001b[43mtimeout\u001b[49m\u001b[38;5;241;43m=\u001b[39;49m\u001b[43mtimeout\u001b[49m\u001b[43m)\u001b[49m\n\u001b[1;32m    506\u001b[0m     \u001b[38;5;28;01mexcept\u001b[39;00m TimeoutExpired \u001b[38;5;28;01mas\u001b[39;00m exc:\n\u001b[1;32m    507\u001b[0m         process\u001b[38;5;241m.\u001b[39mkill()\n",
      "File \u001b[0;32m~/miniconda3/envs/PoseBench/lib/python3.10/subprocess.py:1146\u001b[0m, in \u001b[0;36mPopen.communicate\u001b[0;34m(self, input, timeout)\u001b[0m\n\u001b[1;32m   1144\u001b[0m         stderr \u001b[38;5;241m=\u001b[39m \u001b[38;5;28mself\u001b[39m\u001b[38;5;241m.\u001b[39mstderr\u001b[38;5;241m.\u001b[39mread()\n\u001b[1;32m   1145\u001b[0m         \u001b[38;5;28mself\u001b[39m\u001b[38;5;241m.\u001b[39mstderr\u001b[38;5;241m.\u001b[39mclose()\n\u001b[0;32m-> 1146\u001b[0m     \u001b[38;5;28;43mself\u001b[39;49m\u001b[38;5;241;43m.\u001b[39;49m\u001b[43mwait\u001b[49m\u001b[43m(\u001b[49m\u001b[43m)\u001b[49m\n\u001b[1;32m   1147\u001b[0m \u001b[38;5;28;01melse\u001b[39;00m:\n\u001b[1;32m   1148\u001b[0m     \u001b[38;5;28;01mif\u001b[39;00m timeout \u001b[38;5;129;01mis\u001b[39;00m \u001b[38;5;129;01mnot\u001b[39;00m \u001b[38;5;28;01mNone\u001b[39;00m:\n",
      "File \u001b[0;32m~/miniconda3/envs/PoseBench/lib/python3.10/subprocess.py:1209\u001b[0m, in \u001b[0;36mPopen.wait\u001b[0;34m(self, timeout)\u001b[0m\n\u001b[1;32m   1207\u001b[0m     endtime \u001b[38;5;241m=\u001b[39m _time() \u001b[38;5;241m+\u001b[39m timeout\n\u001b[1;32m   1208\u001b[0m \u001b[38;5;28;01mtry\u001b[39;00m:\n\u001b[0;32m-> 1209\u001b[0m     \u001b[38;5;28;01mreturn\u001b[39;00m \u001b[38;5;28;43mself\u001b[39;49m\u001b[38;5;241;43m.\u001b[39;49m\u001b[43m_wait\u001b[49m\u001b[43m(\u001b[49m\u001b[43mtimeout\u001b[49m\u001b[38;5;241;43m=\u001b[39;49m\u001b[43mtimeout\u001b[49m\u001b[43m)\u001b[49m\n\u001b[1;32m   1210\u001b[0m \u001b[38;5;28;01mexcept\u001b[39;00m \u001b[38;5;167;01mKeyboardInterrupt\u001b[39;00m:\n\u001b[1;32m   1211\u001b[0m     \u001b[38;5;66;03m# https://bugs.python.org/issue25942\u001b[39;00m\n\u001b[1;32m   1212\u001b[0m     \u001b[38;5;66;03m# The first keyboard interrupt waits briefly for the child to\u001b[39;00m\n\u001b[1;32m   1213\u001b[0m     \u001b[38;5;66;03m# exit under the common assumption that it also received the ^C\u001b[39;00m\n\u001b[1;32m   1214\u001b[0m     \u001b[38;5;66;03m# generated SIGINT and will exit rapidly.\u001b[39;00m\n\u001b[1;32m   1215\u001b[0m     \u001b[38;5;28;01mif\u001b[39;00m timeout \u001b[38;5;129;01mis\u001b[39;00m \u001b[38;5;129;01mnot\u001b[39;00m \u001b[38;5;28;01mNone\u001b[39;00m:\n",
      "File \u001b[0;32m~/miniconda3/envs/PoseBench/lib/python3.10/subprocess.py:1959\u001b[0m, in \u001b[0;36mPopen._wait\u001b[0;34m(self, timeout)\u001b[0m\n\u001b[1;32m   1957\u001b[0m \u001b[38;5;28;01mif\u001b[39;00m \u001b[38;5;28mself\u001b[39m\u001b[38;5;241m.\u001b[39mreturncode \u001b[38;5;129;01mis\u001b[39;00m \u001b[38;5;129;01mnot\u001b[39;00m \u001b[38;5;28;01mNone\u001b[39;00m:\n\u001b[1;32m   1958\u001b[0m     \u001b[38;5;28;01mbreak\u001b[39;00m  \u001b[38;5;66;03m# Another thread waited.\u001b[39;00m\n\u001b[0;32m-> 1959\u001b[0m (pid, sts) \u001b[38;5;241m=\u001b[39m \u001b[38;5;28;43mself\u001b[39;49m\u001b[38;5;241;43m.\u001b[39;49m\u001b[43m_try_wait\u001b[49m\u001b[43m(\u001b[49m\u001b[38;5;241;43m0\u001b[39;49m\u001b[43m)\u001b[49m\n\u001b[1;32m   1960\u001b[0m \u001b[38;5;66;03m# Check the pid and loop as waitpid has been known to\u001b[39;00m\n\u001b[1;32m   1961\u001b[0m \u001b[38;5;66;03m# return 0 even without WNOHANG in odd situations.\u001b[39;00m\n\u001b[1;32m   1962\u001b[0m \u001b[38;5;66;03m# http://bugs.python.org/issue14396.\u001b[39;00m\n\u001b[1;32m   1963\u001b[0m \u001b[38;5;28;01mif\u001b[39;00m pid \u001b[38;5;241m==\u001b[39m \u001b[38;5;28mself\u001b[39m\u001b[38;5;241m.\u001b[39mpid:\n",
      "File \u001b[0;32m~/miniconda3/envs/PoseBench/lib/python3.10/subprocess.py:1917\u001b[0m, in \u001b[0;36mPopen._try_wait\u001b[0;34m(self, wait_flags)\u001b[0m\n\u001b[1;32m   1915\u001b[0m \u001b[38;5;250m\u001b[39m\u001b[38;5;124;03m\"\"\"All callers to this function MUST hold self._waitpid_lock.\"\"\"\u001b[39;00m\n\u001b[1;32m   1916\u001b[0m \u001b[38;5;28;01mtry\u001b[39;00m:\n\u001b[0;32m-> 1917\u001b[0m     (pid, sts) \u001b[38;5;241m=\u001b[39m \u001b[43mos\u001b[49m\u001b[38;5;241;43m.\u001b[39;49m\u001b[43mwaitpid\u001b[49m\u001b[43m(\u001b[49m\u001b[38;5;28;43mself\u001b[39;49m\u001b[38;5;241;43m.\u001b[39;49m\u001b[43mpid\u001b[49m\u001b[43m,\u001b[49m\u001b[43m \u001b[49m\u001b[43mwait_flags\u001b[49m\u001b[43m)\u001b[49m\n\u001b[1;32m   1918\u001b[0m \u001b[38;5;28;01mexcept\u001b[39;00m \u001b[38;5;167;01mChildProcessError\u001b[39;00m:\n\u001b[1;32m   1919\u001b[0m     \u001b[38;5;66;03m# This happens if SIGCLD is set to be ignored or waiting\u001b[39;00m\n\u001b[1;32m   1920\u001b[0m     \u001b[38;5;66;03m# for child processes has otherwise been disabled for our\u001b[39;00m\n\u001b[1;32m   1921\u001b[0m     \u001b[38;5;66;03m# process.  This child is dead, we can't get the status.\u001b[39;00m\n\u001b[1;32m   1922\u001b[0m     pid \u001b[38;5;241m=\u001b[39m \u001b[38;5;28mself\u001b[39m\u001b[38;5;241m.\u001b[39mpid\n",
      "\u001b[0;31mKeyboardInterrupt\u001b[0m: "
     ]
    }
   ],
   "source": [
    "STAGE = \"preprocessing\"    \n",
    "docking_processor.run_docking_preparation(num_conf=100, stage=STAGE)"
   ]
  },
  {
   "cell_type": "markdown",
   "metadata": {},
   "source": [
    "## Pocket Identification "
   ]
  },
  {
   "cell_type": "code",
   "execution_count": null,
   "metadata": {},
   "outputs": [],
   "source": [
    "ICM_SCRIPT_TEMPLATE = \"icm_docking_scripts_template/icm_pocket_identification_template.icm\"\n",
    "docking_processor = ICMBatchDocking(\n",
    "    data_dir=DATA_DIR,\n",
    "    icm_script_template=ICM_SCRIPT_TEMPLATE,\n",
    "    icm_executable=ICM_EXECUTABLE,\n",
    "    subset_dir=SUBSET_DIR,\n",
    "    icm_docking_dir=ICM_DOCKING_DIR,\n",
    "    docking_maps=DOCKING_MAPS\n",
    ")"
   ]
  },
  {
   "cell_type": "code",
   "execution_count": null,
   "metadata": {},
   "outputs": [],
   "source": [
    "STAGE = \"pocket_identification\"\n",
    "docking_processor.run_docking(num_conf=100, stage=STAGE)"
   ]
  },
  {
   "cell_type": "markdown",
   "metadata": {},
   "source": [
    "## Dock Molecule "
   ]
  },
  {
   "cell_type": "code",
   "execution_count": null,
   "metadata": {},
   "outputs": [],
   "source": [
    "# Configure these paths according to your setup\n",
    "BASE_DIR = \"/Users/aoxu/projects/DrugDiscovery/PoseBench/data/posebusters_benchmark_set\"\n",
    "SUBSET_DIR = \"/Users/aoxu/projects/DrugDiscovery/PoseBench/forks/DiffDock/inference/diffdock_posebusters_benchmark_output_orig_structure_1/\"\n",
    "ICM_EXECUTABLE = \"/Applications/MolsoftICM64.app/Contents/MacOS/icm64\"\n",
    "ICM_DOCKING_DIR = \"/Users/aoxu/projects/DrugDiscovery/PoseBench/forks/ICM\"\n",
    "DOCKING_MAPS = \"manual\"\n",
    "dock_scan_path=\"/Applications/MolsoftICM64.app/Contents/Resources/icm/_dockScan\",\n",
    "\n",
    "\n",
    "# Create docking processor instance\n",
    "docking_processor = ICMBatchDocking(\n",
    "    base_dir=BASE_DIR,\n",
    "    icm_executable=ICM_EXECUTABLE,\n",
    "    icm_dockscan_path=dock_scan_path,\n",
    "    icm_script_template=None,\n",
    "    subset_dir=SUBSET_DIR,\n",
    "    icm_docking_dir=ICM_DOCKING_DIR,\n",
    "    docking_maps=DOCKING_MAPS\n",
    ")\n",
    "\n",
    "# Run docking with specified number of conformations\n",
    "docking_processor.run_docking(num_conf=10, thorough=10)\n"
   ]
  }
 ],
 "metadata": {
  "kernelspec": {
   "display_name": "PoseBench",
   "language": "python",
   "name": "python3"
  },
  "language_info": {
   "codemirror_mode": {
    "name": "ipython",
    "version": 3
   },
   "file_extension": ".py",
   "mimetype": "text/x-python",
   "name": "python",
   "nbconvert_exporter": "python",
   "pygments_lexer": "ipython3",
   "version": "3.10.14"
  }
 },
 "nbformat": 4,
 "nbformat_minor": 2
}
