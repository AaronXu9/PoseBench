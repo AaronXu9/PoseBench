{
 "cells": [
  {
   "cell_type": "code",
   "execution_count": 1,
   "metadata": {},
   "outputs": [],
   "source": [
    "import os\n",
    "import multiprocessing\n",
    "import gc\n",
    "import time \n",
    "import glob\n",
    "import tqdm\n",
    "\n",
    "from dock import ICMBatchDocking"
   ]
  },
  {
   "cell_type": "code",
   "execution_count": 2,
   "metadata": {},
   "outputs": [
    {
     "name": "stdout",
     "output_type": "stream",
     "text": [
      "/home/aoxu/projects/IcmDocking/PB_docking_scripts\n",
      "/home/aoxu/projects/IcmDocking\n"
     ]
    }
   ],
   "source": [
    "current_dir = os.getcwd()\n",
    "print(current_dir)\n",
    "os.chdir(\"..\")\n",
    "print(os.getcwd())\n"
   ]
  },
  {
   "cell_type": "code",
   "execution_count": 3,
   "metadata": {},
   "outputs": [],
   "source": [
    "# Configure these paths according to your setup\n",
    "BASE_DIR = \"/home/aoxu/projects/PoseBench/data/posebusters_benchmark_set\"\n",
    "SUBSET_DIR = \"/home/aoxu/projects/PoseBench/forks/DiffDock/inference/diffdock_posebusters_benchmark_output_orig_structure_1/\"\n",
    "ICM_EXECUTABLE = \"/home/aoxu/icm-3.9-4/icm64\"\n",
    "ICM_DOCKING_DIR = \"/home/aoxu/projects/PoseBench/forks/ICM\"\n",
    "DOCKING_MAPS = \"manual\"\n",
    "dock_scan_path=\"/home/aoxu/icm-3.9-4/_dockScan\","
   ]
  },
  {
   "cell_type": "markdown",
   "metadata": {},
   "source": [
    "## Proprocess the input protein and ligand"
   ]
  },
  {
   "cell_type": "code",
   "execution_count": null,
   "metadata": {},
   "outputs": [],
   "source": [
    "ICM_SCRIPT_TEMPLATE = \"icm_docking_scripts_template/icm_load_and_preprocessing_template.icm\"\n",
    "# Create docking processor instance\n",
    "docking_processor = ICMBatchDocking(\n",
    "    base_dir=BASE_DIR,\n",
    "    icm_script_template=ICM_SCRIPT_TEMPLATE,\n",
    "    icm_executable=ICM_EXECUTABLE,\n",
    "    subset_dir=SUBSET_DIR,\n",
    "    icm_docking_dir=ICM_DOCKING_DIR,\n",
    "    docking_maps=DOCKING_MAPS,\n",
    ")"
   ]
  },
  {
   "cell_type": "code",
   "execution_count": null,
   "metadata": {},
   "outputs": [],
   "source": [
    "STAGE = \"preprocessing\"    \n",
    "docking_processor.run_docking(num_conf=100, stage=STAGE)"
   ]
  },
  {
   "cell_type": "markdown",
   "metadata": {},
   "source": [
    "## Pocket Identification "
   ]
  },
  {
   "cell_type": "code",
   "execution_count": 4,
   "metadata": {},
   "outputs": [],
   "source": [
    "ICM_SCRIPT_TEMPLATE = \"icm_docking_scripts_template/icm_pocket_identification_template.icm\"\n",
    "docking_processor = ICMBatchDocking(\n",
    "    base_dir=BASE_DIR,\n",
    "    icm_script_template=ICM_SCRIPT_TEMPLATE,\n",
    "    icm_executable=ICM_EXECUTABLE,\n",
    "    subset_dir=SUBSET_DIR,\n",
    "    icm_docking_dir=ICM_DOCKING_DIR,\n",
    "    docking_maps=DOCKING_MAPS\n",
    ")"
   ]
  },
  {
   "cell_type": "code",
   "execution_count": null,
   "metadata": {},
   "outputs": [],
   "source": [
    "STAGE = \"pocket_identification\"\n",
    "docking_processor.run_docking(num_conf=100, stage=STAGE)"
   ]
  },
  {
   "cell_type": "markdown",
   "metadata": {},
   "source": [
    "## Dock Molecule "
   ]
  },
  {
   "cell_type": "code",
   "execution_count": null,
   "metadata": {},
   "outputs": [],
   "source": [
    "# Configure these paths according to your setup\n",
    "BASE_DIR = \"/Users/aoxu/projects/DrugDiscovery/PoseBench/data/posebusters_benchmark_set\"\n",
    "SUBSET_DIR = \"/Users/aoxu/projects/DrugDiscovery/PoseBench/forks/DiffDock/inference/diffdock_posebusters_benchmark_output_orig_structure_1/\"\n",
    "ICM_EXECUTABLE = \"/Applications/MolsoftICM64.app/Contents/MacOS/icm64\"\n",
    "ICM_DOCKING_DIR = \"/Users/aoxu/projects/DrugDiscovery/PoseBench/forks/ICM\"\n",
    "DOCKING_MAPS = \"manual\"\n",
    "dock_scan_path=\"/Applications/MolsoftICM64.app/Contents/Resources/icm/_dockScan\",\n",
    "\n",
    "\n",
    "# Create docking processor instance\n",
    "docking_processor = ICMBatchDocking(\n",
    "    base_dir=BASE_DIR,\n",
    "    icm_executable=ICM_EXECUTABLE,\n",
    "    icm_dockscan_path=dock_scan_path,\n",
    "    icm_script_template=None,\n",
    "    subset_dir=SUBSET_DIR,\n",
    "    icm_docking_dir=ICM_DOCKING_DIR,\n",
    "    docking_maps=DOCKING_MAPS\n",
    ")\n",
    "\n",
    "# Run docking with specified number of conformations\n",
    "docking_processor.run_docking(num_conf=10, thorough=10)\n"
   ]
  }
 ],
 "metadata": {
  "kernelspec": {
   "display_name": "PoseBench",
   "language": "python",
   "name": "python3"
  },
  "language_info": {
   "codemirror_mode": {
    "name": "ipython",
    "version": 3
   },
   "file_extension": ".py",
   "mimetype": "text/x-python",
   "name": "python",
   "nbconvert_exporter": "python",
   "pygments_lexer": "ipython3",
   "version": "3.10.14"
  }
 },
 "nbformat": 4,
 "nbformat_minor": 2
}
